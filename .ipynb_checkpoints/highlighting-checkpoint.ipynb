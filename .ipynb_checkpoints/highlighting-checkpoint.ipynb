{
 "cells": [
  {
   "cell_type": "markdown",
   "metadata": {},
   "source": [
    "## Highlighting"
   ]
  },
  {
   "cell_type": "code",
   "execution_count": 1,
   "metadata": {},
   "outputs": [],
   "source": [
    "import pandas as pd\n",
    "from sandbox.highlighting_utils import highlightTerms\n",
    "from sandbox.highlighting_utils import myTokenize\n",
    "import nltk\n",
    "from nltk.tokenize import WhitespaceTokenizer"
   ]
  },
  {
   "cell_type": "code",
   "execution_count": 2,
   "metadata": {},
   "outputs": [],
   "source": [
    "# Read in the dataset of Federal Register abstracts\n",
    "df = pd.read_csv(r'sandbox\\01_Comments_Data_Clustered.csv', dtype='str')"
   ]
  },
  {
   "cell_type": "code",
   "execution_count": 3,
   "metadata": {},
   "outputs": [
    {
     "data": {
      "text/html": [
       "<div>\n",
       "<style scoped>\n",
       "    .dataframe tbody tr th:only-of-type {\n",
       "        vertical-align: middle;\n",
       "    }\n",
       "\n",
       "    .dataframe tbody tr th {\n",
       "        vertical-align: top;\n",
       "    }\n",
       "\n",
       "    .dataframe thead th {\n",
       "        text-align: right;\n",
       "    }\n",
       "</style>\n",
       "<table border=\"1\" class=\"dataframe\">\n",
       "  <thead>\n",
       "    <tr style=\"text-align: right;\">\n",
       "      <th></th>\n",
       "      <th>Topic</th>\n",
       "      <th>URL</th>\n",
       "      <th>Topical Word 1</th>\n",
       "      <th>Topical Word 2</th>\n",
       "      <th>Topical Word 3</th>\n",
       "      <th>Topical Word 4</th>\n",
       "      <th>Topical Word 5</th>\n",
       "      <th>Comments</th>\n",
       "    </tr>\n",
       "  </thead>\n",
       "  <tbody>\n",
       "    <tr>\n",
       "      <th>0</th>\n",
       "      <td>Topic 1</td>\n",
       "      <td>https://www.regulations.gov/document?D=FWS-HQ-...</td>\n",
       "      <td>land</td>\n",
       "      <td>percent</td>\n",
       "      <td>conservancy</td>\n",
       "      <td>mitigation</td>\n",
       "      <td>use</td>\n",
       "      <td>Each year the wind industry is responsible for...</td>\n",
       "    </tr>\n",
       "    <tr>\n",
       "      <th>1</th>\n",
       "      <td>Topic 1</td>\n",
       "      <td>https://www.regulations.gov/document?D=FWS-HQ-...</td>\n",
       "      <td>land</td>\n",
       "      <td>percent</td>\n",
       "      <td>conservancy</td>\n",
       "      <td>mitigation</td>\n",
       "      <td>use</td>\n",
       "      <td>Alternative energy is not 'green' if it is kil...</td>\n",
       "    </tr>\n",
       "  </tbody>\n",
       "</table>\n",
       "</div>"
      ],
      "text/plain": [
       "    Topic                                                 URL Topical Word 1  \\\n",
       "0  Topic 1  https://www.regulations.gov/document?D=FWS-HQ-...           land   \n",
       "1  Topic 1  https://www.regulations.gov/document?D=FWS-HQ-...           land   \n",
       "\n",
       "  Topical Word 2 Topical Word 3 Topical Word 4 Topical Word 5  \\\n",
       "0        percent    conservancy     mitigation            use   \n",
       "1        percent    conservancy     mitigation            use   \n",
       "\n",
       "                                            Comments  \n",
       "0  Each year the wind industry is responsible for...  \n",
       "1  Alternative energy is not 'green' if it is kil...  "
      ]
     },
     "execution_count": 3,
     "metadata": {},
     "output_type": "execute_result"
    }
   ],
   "source": [
    "df.head(2)"
   ]
  },
  {
   "cell_type": "code",
   "execution_count": 4,
   "metadata": {},
   "outputs": [
    {
     "data": {
      "text/plain": [
       "Index(['Topic ', 'URL', 'Topical Word 1', 'Topical Word 2', 'Topical Word 3',\n",
       "       'Topical Word 4', 'Topical Word 5', 'Comments'],\n",
       "      dtype='object')"
      ]
     },
     "execution_count": 4,
     "metadata": {},
     "output_type": "execute_result"
    }
   ],
   "source": [
    "df.columns"
   ]
  },
  {
   "cell_type": "code",
   "execution_count": 5,
   "metadata": {},
   "outputs": [],
   "source": [
    "df['Number']=df.index"
   ]
  },
  {
   "cell_type": "code",
   "execution_count": 6,
   "metadata": {},
   "outputs": [],
   "source": [
    "df=df[['Number', 'Topic ', 'Comments', 'URL', 'Topical Word 1', 'Topical Word 2', 'Topical Word 3',\n",
    "       'Topical Word 4', 'Topical Word 5']]"
   ]
  },
  {
   "cell_type": "code",
   "execution_count": null,
   "metadata": {},
   "outputs": [],
   "source": []
  },
  {
   "cell_type": "markdown",
   "metadata": {},
   "source": [
    "                srcDoc='<span style=\"background-color: #9999ff\">Topic 1</span> \\\n",
    "                        <span style=\"background-color: yellow\">Topic 2</span> \\\n",
    "                        <span style=\"background-color: #50e246\">Topic 3</span> \\\n",
    "                        <span style=\"background-color: #5ef9f2\">Topic 4</span> \\\n",
    "                        <span style=\"background-color: blue\">Topic 5</span> \\\n",
    "                        <span style=\"background-color: #e67cea\">Topic 6</span> \\\n",
    "                        <span style=\"background-color: orange\">Topic 7</span> \\\n",
    "                        <span style=\"background-color: #f20410\">Topic 8</span> \\\n",
    "                        <span style=\"background-color: gray\">Topic 9</span> \\\n",
    "                        <span style=\"background-color: purple\">Topic 10</span> \\"
   ]
  },
  {
   "cell_type": "code",
   "execution_count": 7,
   "metadata": {},
   "outputs": [],
   "source": [
    "topic1 = ['land', 'percent', 'conservancy', 'mitigation', 'use']\n",
    "topic2 = ['gas', 'report', 'oil', 'greenhouse', 'carbon']\n",
    "topic3 = ['wildlife', 'energy', 'project', 'bird', 'migratory']\n",
    "topic4 = ['management', 'pollutant', 'california', 'quality', 'bureau']\n",
    "topic5 = ['year', 'value', 'bat', 'control', 'tax']\n",
    "topic6 = ['climate', 'world', 'farm', 'science', 'study']\n",
    "topic7 = ['mitigation', 'policy', 'gain', 'conservancy', 'goal']\n",
    "topic8 = ['wind', 'energy', 'bird', 'region', 'tax']\n",
    "topic9 = ['water', 'study', 'gas', 'development', 'oil']\n",
    "topic10= ['habitat', 'use', 'recovery', 'law', 'government']"
   ]
  },
  {
   "cell_type": "code",
   "execution_count": 8,
   "metadata": {},
   "outputs": [],
   "source": [
    "df['Highlighting'] = df['Comments'].apply(lambda x: highlightTerms(x, topic1, topic2, topic3, topic4, topic5, topic6,\n",
    "                                                                  topic7, topic8, topic9, topic10))"
   ]
  },
  {
   "cell_type": "code",
   "execution_count": 9,
   "metadata": {},
   "outputs": [
    {
     "data": {
      "text/html": [
       "<div>\n",
       "<style scoped>\n",
       "    .dataframe tbody tr th:only-of-type {\n",
       "        vertical-align: middle;\n",
       "    }\n",
       "\n",
       "    .dataframe tbody tr th {\n",
       "        vertical-align: top;\n",
       "    }\n",
       "\n",
       "    .dataframe thead th {\n",
       "        text-align: right;\n",
       "    }\n",
       "</style>\n",
       "<table border=\"1\" class=\"dataframe\">\n",
       "  <thead>\n",
       "    <tr style=\"text-align: right;\">\n",
       "      <th></th>\n",
       "      <th>Number</th>\n",
       "      <th>Topic</th>\n",
       "      <th>Comments</th>\n",
       "      <th>URL</th>\n",
       "      <th>Topical Word 1</th>\n",
       "      <th>Topical Word 2</th>\n",
       "      <th>Topical Word 3</th>\n",
       "      <th>Topical Word 4</th>\n",
       "      <th>Topical Word 5</th>\n",
       "      <th>Highlighting</th>\n",
       "    </tr>\n",
       "  </thead>\n",
       "  <tbody>\n",
       "    <tr>\n",
       "      <th>0</th>\n",
       "      <td>0</td>\n",
       "      <td>Topic 1</td>\n",
       "      <td>Each year the wind industry is responsible for...</td>\n",
       "      <td>https://www.regulations.gov/document?D=FWS-HQ-...</td>\n",
       "      <td>land</td>\n",
       "      <td>percent</td>\n",
       "      <td>conservancy</td>\n",
       "      <td>mitigation</td>\n",
       "      <td>use</td>\n",
       "      <td>Each &lt;span style=\"background-color: blue\"&gt;year...</td>\n",
       "    </tr>\n",
       "    <tr>\n",
       "      <th>1</th>\n",
       "      <td>1</td>\n",
       "      <td>Topic 1</td>\n",
       "      <td>Alternative energy is not 'green' if it is kil...</td>\n",
       "      <td>https://www.regulations.gov/document?D=FWS-HQ-...</td>\n",
       "      <td>land</td>\n",
       "      <td>percent</td>\n",
       "      <td>conservancy</td>\n",
       "      <td>mitigation</td>\n",
       "      <td>use</td>\n",
       "      <td>Alternative energy is not 'green' if it is kil...</td>\n",
       "    </tr>\n",
       "  </tbody>\n",
       "</table>\n",
       "</div>"
      ],
      "text/plain": [
       "   Number   Topic                                            Comments  \\\n",
       "0       0  Topic 1  Each year the wind industry is responsible for...   \n",
       "1       1  Topic 1  Alternative energy is not 'green' if it is kil...   \n",
       "\n",
       "                                                 URL Topical Word 1  \\\n",
       "0  https://www.regulations.gov/document?D=FWS-HQ-...           land   \n",
       "1  https://www.regulations.gov/document?D=FWS-HQ-...           land   \n",
       "\n",
       "  Topical Word 2 Topical Word 3 Topical Word 4 Topical Word 5  \\\n",
       "0        percent    conservancy     mitigation            use   \n",
       "1        percent    conservancy     mitigation            use   \n",
       "\n",
       "                                        Highlighting  \n",
       "0  Each <span style=\"background-color: blue\">year...  \n",
       "1  Alternative energy is not 'green' if it is kil...  "
      ]
     },
     "execution_count": 9,
     "metadata": {},
     "output_type": "execute_result"
    }
   ],
   "source": [
    "df.head(2)"
   ]
  },
  {
   "cell_type": "code",
   "execution_count": 10,
   "metadata": {},
   "outputs": [],
   "source": [
    "df.to_csv('comments.csv')"
   ]
  },
  {
   "cell_type": "code",
   "execution_count": null,
   "metadata": {},
   "outputs": [],
   "source": []
  }
 ],
 "metadata": {
  "kernelspec": {
   "display_name": "Python 3",
   "language": "python",
   "name": "python3"
  },
  "language_info": {
   "codemirror_mode": {
    "name": "ipython",
    "version": 3
   },
   "file_extension": ".py",
   "mimetype": "text/x-python",
   "name": "python",
   "nbconvert_exporter": "python",
   "pygments_lexer": "ipython3",
   "version": "3.6.4"
  }
 },
 "nbformat": 4,
 "nbformat_minor": 2
}
